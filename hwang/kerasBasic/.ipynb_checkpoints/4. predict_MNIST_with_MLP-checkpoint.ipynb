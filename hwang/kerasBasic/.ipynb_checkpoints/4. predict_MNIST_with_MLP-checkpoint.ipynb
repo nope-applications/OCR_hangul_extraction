{
 "cells": [
  {
   "cell_type": "code",
   "execution_count": 1,
   "metadata": {},
   "outputs": [
    {
     "name": "stderr",
     "output_type": "stream",
     "text": [
      "C:\\Users\\leesoojin\\Anaconda3\\lib\\site-packages\\h5py\\__init__.py:36: FutureWarning: Conversion of the second argument of issubdtype from `float` to `np.floating` is deprecated. In future, it will be treated as `np.float64 == np.dtype(float).type`.\n",
      "  from ._conv import register_converters as _register_converters\n",
      "Using TensorFlow backend.\n"
     ]
    }
   ],
   "source": [
    "from keras.models import Sequential\n",
    "from keras.layers import Dense\n",
    "from keras.utils import np_utils\n",
    "from keras.callbacks import ModelCheckpoint, EarlyStopping\n",
    "from sklearn.model_selection import train_test_split\n",
    "from sklearn.preprocessing import LabelEncoder\n",
    "import keras.backend.tensorflow_backend as K\n",
    "import tensorflow as tf\n",
    "import pandas as pd\n",
    "import numpy as np\n",
    "import matplotlib.pyplot as plt\n",
    "import matplotlib as mpl\n",
    "import seaborn as sns\n",
    "import os\n",
    "\n",
    "config = tf.ConfigProto()\n",
    "config.gpu_options.allow_growth = True\n",
    "session = tf.Session(config=config)\n",
    "\n"
   ]
  },
  {
   "cell_type": "code",
   "execution_count": 2,
   "metadata": {},
   "outputs": [],
   "source": [
    "from keras.datasets import mnist"
   ]
  },
  {
   "cell_type": "code",
   "execution_count": 3,
   "metadata": {},
   "outputs": [
    {
     "name": "stdout",
     "output_type": "stream",
     "text": [
      "(60000, 28, 28)\n",
      "(10000, 28, 28)\n",
      "{0, 1, 2, 3, 4, 5, 6, 7, 8, 9}\n",
      "10\n"
     ]
    }
   ],
   "source": [
    "(X_train, y_train), (X_test, y_test) = mnist.load_data()\n",
    "\n",
    "print(X_train.shape)\n",
    "print(X_test.shape)\n",
    "print(set(y_train))\n",
    "print(len(set(y_train)))"
   ]
  },
  {
   "cell_type": "code",
   "execution_count": 4,
   "metadata": {},
   "outputs": [
    {
     "name": "stdout",
     "output_type": "stream",
     "text": [
      "(60000, 10)\n"
     ]
    }
   ],
   "source": [
    "X_train = X_train.reshape(X_train.shape[0], 28*28).astype('float32') / 255   #255로 나누는 것은 rescale이다.\n",
    "X_test = X_test.reshape(X_test.shape[0], 28*28).astype('float32') / 255   #255로 나누는 것은 rescale이다.\n",
    "\n",
    "y_train = np_utils.to_categorical(y_train, len(set(y_train)))\n",
    "y_test = np_utils.to_categorical(y_test, len(set(y_test)))\n",
    "\n",
    "print(y_train.shape)"
   ]
  },
  {
   "cell_type": "code",
   "execution_count": 5,
   "metadata": {},
   "outputs": [
    {
     "name": "stdout",
     "output_type": "stream",
     "text": [
      "Train on 48000 samples, validate on 12000 samples\n",
      "Epoch 1/30\n",
      "48000/48000 [==============================] - 2s 38us/step - loss: 0.3380 - acc: 0.9053 - val_loss: 0.1679 - val_acc: 0.9533\n",
      "\n",
      "Epoch 00001: val_loss improved from inf to 0.16794, saving model to ./model/mnist_mlp.model\n",
      "Epoch 2/30\n",
      "48000/48000 [==============================] - 1s 23us/step - loss: 0.1425 - acc: 0.9596 - val_loss: 0.1223 - val_acc: 0.9658\n",
      "\n",
      "Epoch 00002: val_loss improved from 0.16794 to 0.12235, saving model to ./model/mnist_mlp.model\n",
      "Epoch 3/30\n",
      "48000/48000 [==============================] - 1s 22us/step - loss: 0.0955 - acc: 0.9726 - val_loss: 0.1063 - val_acc: 0.9687\n",
      "\n",
      "Epoch 00003: val_loss improved from 0.12235 to 0.10634, saving model to ./model/mnist_mlp.model\n",
      "Epoch 4/30\n",
      "48000/48000 [==============================] - 1s 22us/step - loss: 0.0711 - acc: 0.9798 - val_loss: 0.0899 - val_acc: 0.9727\n",
      "\n",
      "Epoch 00004: val_loss improved from 0.10634 to 0.08994, saving model to ./model/mnist_mlp.model\n",
      "Epoch 5/30\n",
      "48000/48000 [==============================] - 1s 22us/step - loss: 0.0519 - acc: 0.9852 - val_loss: 0.0818 - val_acc: 0.9750\n",
      "\n",
      "Epoch 00005: val_loss improved from 0.08994 to 0.08180, saving model to ./model/mnist_mlp.model\n",
      "Epoch 6/30\n",
      "48000/48000 [==============================] - 1s 21us/step - loss: 0.0419 - acc: 0.9884 - val_loss: 0.0776 - val_acc: 0.9771\n",
      "\n",
      "Epoch 00006: val_loss improved from 0.08180 to 0.07763, saving model to ./model/mnist_mlp.model\n",
      "Epoch 7/30\n",
      "48000/48000 [==============================] - 1s 22us/step - loss: 0.0307 - acc: 0.9921 - val_loss: 0.0740 - val_acc: 0.9772\n",
      "\n",
      "Epoch 00007: val_loss improved from 0.07763 to 0.07396, saving model to ./model/mnist_mlp.model\n",
      "Epoch 8/30\n",
      "48000/48000 [==============================] - 1s 22us/step - loss: 0.0236 - acc: 0.9939 - val_loss: 0.0734 - val_acc: 0.9768\n",
      "\n",
      "Epoch 00008: val_loss improved from 0.07396 to 0.07339, saving model to ./model/mnist_mlp.model\n",
      "Epoch 9/30\n",
      "48000/48000 [==============================] - 1s 21us/step - loss: 0.0188 - acc: 0.9957 - val_loss: 0.0752 - val_acc: 0.9780\n",
      "\n",
      "Epoch 00009: val_loss did not improve from 0.07339\n",
      "Epoch 10/30\n",
      "48000/48000 [==============================] - 1s 22us/step - loss: 0.0141 - acc: 0.9974 - val_loss: 0.0720 - val_acc: 0.9780\n",
      "\n",
      "Epoch 00010: val_loss improved from 0.07339 to 0.07202, saving model to ./model/mnist_mlp.model\n",
      "Epoch 11/30\n",
      "48000/48000 [==============================] - 1s 21us/step - loss: 0.0108 - acc: 0.9980 - val_loss: 0.0755 - val_acc: 0.9778\n",
      "\n",
      "Epoch 00011: val_loss did not improve from 0.07202\n",
      "Epoch 12/30\n",
      "48000/48000 [==============================] - 1s 22us/step - loss: 0.0087 - acc: 0.9989 - val_loss: 0.0714 - val_acc: 0.9788\n",
      "\n",
      "Epoch 00012: val_loss improved from 0.07202 to 0.07135, saving model to ./model/mnist_mlp.model\n",
      "Epoch 13/30\n",
      "48000/48000 [==============================] - 1s 22us/step - loss: 0.0066 - acc: 0.9992 - val_loss: 0.0756 - val_acc: 0.9778\n",
      "\n",
      "Epoch 00013: val_loss did not improve from 0.07135\n",
      "Epoch 14/30\n",
      "48000/48000 [==============================] - 1s 22us/step - loss: 0.0060 - acc: 0.9992 - val_loss: 0.0770 - val_acc: 0.9778\n",
      "\n",
      "Epoch 00014: val_loss did not improve from 0.07135\n",
      "Epoch 15/30\n",
      "48000/48000 [==============================] - 1s 23us/step - loss: 0.0041 - acc: 0.9997 - val_loss: 0.0724 - val_acc: 0.9790\n",
      "\n",
      "Epoch 00015: val_loss did not improve from 0.07135\n",
      "Epoch 16/30\n",
      "48000/48000 [==============================] - ETA: 0s - loss: 0.0027 - acc: 0.999 - 1s 23us/step - loss: 0.0027 - acc: 0.9999 - val_loss: 0.0723 - val_acc: 0.9806\n",
      "\n",
      "Epoch 00016: val_loss did not improve from 0.07135\n",
      "Epoch 17/30\n",
      "48000/48000 [==============================] - 1s 23us/step - loss: 0.0021 - acc: 1.0000 - val_loss: 0.0790 - val_acc: 0.9789\n",
      "\n",
      "Epoch 00017: val_loss did not improve from 0.07135\n",
      "Epoch 18/30\n",
      "48000/48000 [==============================] - 1s 22us/step - loss: 0.0023 - acc: 0.9999 - val_loss: 0.0742 - val_acc: 0.9798\n",
      "\n",
      "Epoch 00018: val_loss did not improve from 0.07135\n",
      "Epoch 19/30\n",
      "48000/48000 [==============================] - 1s 22us/step - loss: 0.0016 - acc: 0.9999 - val_loss: 0.0746 - val_acc: 0.9809\n",
      "\n",
      "Epoch 00019: val_loss did not improve from 0.07135\n",
      "Epoch 20/30\n",
      "48000/48000 [==============================] - 1s 23us/step - loss: 0.0013 - acc: 1.0000 - val_loss: 0.0779 - val_acc: 0.9798\n",
      "\n",
      "Epoch 00020: val_loss did not improve from 0.07135\n",
      "Epoch 21/30\n",
      "48000/48000 [==============================] - 1s 22us/step - loss: 0.0010 - acc: 1.0000 - val_loss: 0.0757 - val_acc: 0.9812\n",
      "\n",
      "Epoch 00021: val_loss did not improve from 0.07135\n",
      "Epoch 22/30\n",
      "48000/48000 [==============================] - 1s 22us/step - loss: 7.5664e-04 - acc: 1.0000 - val_loss: 0.0768 - val_acc: 0.9811\n",
      "\n",
      "Epoch 00022: val_loss did not improve from 0.07135\n"
     ]
    }
   ],
   "source": [
    "with K.tf_ops.device('/device:GPU:0'):\n",
    "    model = Sequential()\n",
    "    model.add(Dense(512, input_dim=X_train.shape[1], activation='relu'))\n",
    "    model.add(Dense(10, activation='softmax'))\n",
    "    \n",
    "    model.compile(loss='categorical_crossentropy', optimizer='adam', metrics=['accuracy'])\n",
    "    \n",
    "    model_dir = './model/'\n",
    "    \n",
    "    if not os.path.exists(model_dir):\n",
    "        os.mkdir(model_dir)\n",
    "    \n",
    "    modelpath = model_dir+'mnist_mlp.model'\n",
    "    \n",
    "    checkpointer = ModelCheckpoint(filepath = modelpath, monitor='val_loss', verbose=1, save_best_only=True)\n",
    "    \n",
    "    early_stop = EarlyStopping(monitor='val_loss', patience=10)\n",
    "    \n",
    "    history = model.fit(X_train, y_train, validation_split=0.2, epochs=30, batch_size=200, callbacks=[early_stop, checkpointer])\n",
    "    "
   ]
  },
  {
   "cell_type": "code",
   "execution_count": 6,
   "metadata": {},
   "outputs": [
    {
     "name": "stdout",
     "output_type": "stream",
     "text": [
      "10000/10000 [==============================] - 0s 30us/step\n",
      "모델 정확도 : 0.9835\n"
     ]
    }
   ],
   "source": [
    "print(\"모델 정확도 : %.4f\" % model.evaluate(X_test, y_test)[1])"
   ]
  },
  {
   "cell_type": "code",
   "execution_count": 7,
   "metadata": {},
   "outputs": [
    {
     "data": {
      "image/png": "[encoded data removed]",
      "text/plain": [
       "<Figure size 432x288 with 1 Axes>"
      ]
     },
     "metadata": {},
     "output_type": "display_data"
    }
   ],
   "source": [
    "y_vloss = history.history['val_loss']\n",
    "y_loss = history.history['loss']\n",
    "\n",
    "x_len = np.arange(len(y_loss))\n",
    "\n",
    "plt.plot(x_len, y_vloss, marker='.', c='red', label='test_set_loss')\n",
    "plt.plot(x_len, y_loss, marker='.', c='blue', label='train_set_loss')\n",
    "plt.legend()\n",
    "plt.xlabel(\"epochs\")\n",
    "plt.ylabel(\"loss\")\n",
    "plt.grid()\n",
    "plt.show()"
   ]
  },
  {
   "cell_type": "code",
   "execution_count": null,
   "metadata": {},
   "outputs": [],
   "source": []
  }
 ],
 "metadata": {
  "kernelspec": {
   "display_name": "Python 3",
   "language": "python",
   "name": "python3"
  },
  "language_info": {
   "codemirror_mode": {
    "name": "ipython",
    "version": 3
   },
   "file_extension": ".py",
   "mimetype": "text/x-python",
   "name": "python",
   "nbconvert_exporter": "python",
   "pygments_lexer": "ipython3",
   "version": "3.6.5"
  }
 },
 "nbformat": 4,
 "nbformat_minor": 2
}
