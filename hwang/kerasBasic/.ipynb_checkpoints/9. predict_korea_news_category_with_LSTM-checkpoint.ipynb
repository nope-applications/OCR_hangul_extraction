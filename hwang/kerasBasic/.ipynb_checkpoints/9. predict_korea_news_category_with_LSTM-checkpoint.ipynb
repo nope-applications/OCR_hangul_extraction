{
 "cells": [
  {
   "cell_type": "markdown",
   "metadata": {},
   "source": [
    "# 한국 기사 카테고리 분류를 합니다."
   ]
  },
  {
   "cell_type": "code",
   "execution_count": 1,
   "metadata": {},
   "outputs": [
    {
     "name": "stderr",
     "output_type": "stream",
     "text": [
      "C:\\Users\\leesoojin\\Anaconda3\\lib\\site-packages\\h5py\\__init__.py:36: FutureWarning: Conversion of the second argument of issubdtype from `float` to `np.floating` is deprecated. In future, it will be treated as `np.float64 == np.dtype(float).type`.\n",
      "  from ._conv import register_converters as _register_converters\n",
      "Using TensorFlow backend.\n"
     ]
    }
   ],
   "source": [
    "import os, json, glob, sys, numpy as np\n",
    "from keras.preprocessing.text import Tokenizer\n",
    "from keras.preprocessing.sequence import pad_sequences\n",
    "from keras.preprocessing import sequence\n",
    "from keras.models import Sequential, Model\n",
    "from keras.layers import Dense, Embedding, LSTM, Flatten, Dropout, Input, Conv1D, MaxPooling1D, Bidirectional, GlobalMaxPool1D\n",
    "from keras.utils import np_utils\n",
    "from keras.callbacks import EarlyStopping, ModelCheckpoint\n",
    "import keras.backend.tensorflow_backend as K\n",
    "from sklearn.model_selection import train_test_split\n",
    "import matplotlib.pyplot as plt\n",
    "import tensorflow as tf\n",
    "\n",
    "config = tf.ConfigProto()\n",
    "config.gpu_options.allow_growth = True\n",
    "session = tf.Session(config=config)"
   ]
  },
  {
   "cell_type": "markdown",
   "metadata": {},
   "source": [
    "이 데이터는 이미 전처리가 되어 있는 상태입니다.\n",
    "\n",
    "즉 형태소 분석이 완료되어 있는 상태입니다.\n"
   ]
  },
  {
   "cell_type": "code",
   "execution_count": 2,
   "metadata": {},
   "outputs": [],
   "source": [
    "root_dir = './dataset/신문기사자료'\n",
    "categories = ['100', '101', '102', '103', '104', '105']\n",
    "nb_classes = len(categories)\n",
    "\n",
    "X = []\n",
    "y = []"
   ]
  },
  {
   "cell_type": "code",
   "execution_count": 3,
   "metadata": {},
   "outputs": [
    {
     "name": "stdout",
     "output_type": "stream",
     "text": [
      "100  :  ./dataset/신문기사자료/100\\1.txt.wakati\n",
      "100  :  ./dataset/신문기사자료/100\\1809.txt.wakati\n",
      "100  :  ./dataset/신문기사자료/100\\2619.txt.wakati\n",
      "100  :  ./dataset/신문기사자료/100\\3429.txt.wakati\n",
      "100  :  ./dataset/신문기사자료/100\\648.txt.wakati\n",
      "101  :  ./dataset/신문기사자료/101\\1.txt.wakati\n",
      "101  :  ./dataset/신문기사자료/101\\1809.txt.wakati\n",
      "101  :  ./dataset/신문기사자료/101\\2619.txt.wakati\n",
      "101  :  ./dataset/신문기사자료/101\\345.txt.wakati\n",
      "102  :  ./dataset/신문기사자료/102\\1.txt.wakati\n",
      "102  :  ./dataset/신문기사자료/102\\1809.txt.wakati\n",
      "102  :  ./dataset/신문기사자료/102\\664.txt.wakati\n",
      "103  :  ./dataset/신문기사자료/103\\1.txt.wakati\n",
      "103  :  ./dataset/신문기사자료/103\\1809.txt.wakati\n",
      "103  :  ./dataset/신문기사자료/103\\2619.txt.wakati\n",
      "103  :  ./dataset/신문기사자료/103\\871.txt.wakati\n",
      "104  :  ./dataset/신문기사자료/104\\1.txt.wakati\n",
      "104  :  ./dataset/신문기사자료/104\\1809.txt.wakati\n",
      "104  :  ./dataset/신문기사자료/104\\2619.txt.wakati\n",
      "104  :  ./dataset/신문기사자료/104\\3429.txt.wakati\n",
      "105  :  ./dataset/신문기사자료/105\\1.txt.wakati\n",
      "105  :  ./dataset/신문기사자료/105\\1809.txt.wakati\n",
      "105  :  ./dataset/신문기사자료/105\\854.txt.wakati\n",
      "17833\n"
     ]
    }
   ],
   "source": [
    "for c_idx, cat in enumerate(categories):\n",
    "    dir_detail = root_dir + \"/\" + cat\n",
    "    files = glob.glob(dir_detail+\"/*.txt.*\")\n",
    "    \n",
    "    for i, fname in enumerate(files):\n",
    "        with open(fname, \"r\", encoding='utf-8') as f:\n",
    "            for idx, content in enumerate(f):\n",
    "                X.append(content)\n",
    "                y.append(c_idx)\n",
    "        if i % 900 == 0:\n",
    "            print(cat, \" : \", fname)\n",
    "            \n",
    "            \n",
    "print(len(X))"
   ]
  },
  {
   "cell_type": "markdown",
   "metadata": {},
   "source": [
    "총 데이터 셋은 17833개입니다.\n",
    "\n",
    "하나가 하나의 기사라고 생각하시면 됩니다.\n",
    "\n"
   ]
  },
  {
   "cell_type": "code",
   "execution_count": 4,
   "metadata": {},
   "outputs": [
    {
     "name": "stdout",
     "output_type": "stream",
     "text": [
      "대다 대선 후보 역대 최 명 등록 오다 월 일 실시 되다 대다 대통령 선거 역대 가장 많다 명 대선 후보 등록 하다 중앙 선거 관리 위원회 일 후보 등록 마감 결과 더불다 민주당 문재인 국민의당 안철수 자유 한국 홍준표 바르다 정당 유승민 정의당 심상정 후보 등 주요 개 정당 후보 비롯 하다 명 등록 하다 밝히다 개 정당 후보 모두 후보 등록 첫날 일 서류 접수 하다 안 후보 유 후보 직접 선관위 청사 방문 하다 접수 하다 재산 납세 병역 등 신상 정보 제출 현황 보다 안 후보 억 만원 재산 가장 많다 이다 유 후보 억 만원 홍 후보 억 만원 문 후보 억 만원 심 후보 억 만원 순 이다 또 군소 주자 가운데 새누리당 조원진 늘 푸른 한국 이재오 민중 연합 김선동 국민대 통합 장성민 한국 국민당 이경희 홍익 윤홍식 한반도 미래연합 김정선 무소속 김민찬 후보 등록 하다 일 통일한국 남재준 경제 애국 오 영국 후보 추가 등록 하다 이다 역대 대선 사상 많다 숫자 종전 각각 명 후보 나서다 년 대다 대선 년 대다 대선 최대 규모 이다 투표 용지 길이 역대 대선 통틀어 가장 길어지다 전망 선거 투표 용지 ㎝ 달 공직선거법 대선 후보 기탁금 억원 받다 최종 득표율 이상 기록 하다 전액 ∼ 를 기록 하다 반액 보전 해주다 정당 추천 후보자 일 약 억원 선거 보조금 배분 되다 강준구 기자 국민일보 홈페이지 페이스북 트위터 취재 대행 소 왱 클릭 GoodNews paper 국민일보 무단 전재 및 재 배포 금지 \n",
      "\n"
     ]
    }
   ],
   "source": [
    "print(X[0])"
   ]
  },
  {
   "cell_type": "code",
   "execution_count": 5,
   "metadata": {},
   "outputs": [
    {
     "name": "stdout",
     "output_type": "stream",
     "text": [
      "[[1. 0. 0. 0. 0. 0.]\n",
      " [1. 0. 0. 0. 0. 0.]\n",
      " [1. 0. 0. 0. 0. 0.]\n",
      " ...\n",
      " [0. 0. 0. 0. 0. 1.]\n",
      " [0. 0. 0. 0. 0. 1.]\n",
      " [0. 0. 0. 0. 0. 1.]]\n"
     ]
    }
   ],
   "source": [
    "y = np_utils.to_categorical(y, nb_classes)\n",
    "print(y)\n"
   ]
  },
  {
   "cell_type": "markdown",
   "metadata": {},
   "source": [
    "많이 나온 5000개의 단어를 사용하고 최대 길이는 300으로 맞춥니다."
   ]
  },
  {
   "cell_type": "code",
   "execution_count": 6,
   "metadata": {},
   "outputs": [],
   "source": [
    "max_word = 5000\n",
    "max_len = 300\n",
    "\n",
    "tok = Tokenizer(num_words = max_word)\n",
    "tok.fit_on_texts(X)"
   ]
  },
  {
   "cell_type": "code",
   "execution_count": 7,
   "metadata": {},
   "outputs": [
    {
     "name": "stdout",
     "output_type": "stream",
     "text": [
      "210\n",
      "[65, 31, 7, 1228, 561, 43, 933, 76, 17, 5, 763, 3, 65, 19, 220, 1228, 111, 78, 43, 31, 7, 933, 1, 278, 220, 300, 194, 5, 7, 933, 1784, 115, 252, 114, 88, 132, 99, 270, 27, 327, 324, 199, 440, 1242, 1082, 7, 6, 373, 85, 199, 7, 590, 1, 43, 933, 1, 42, 85, 199, 7, 177, 7, 933, 3007, 5, 2476, 1951, 1, 29, 7, 340, 7, 322, 2115, 2443, 315, 1, 1951, 1, 1634, 4815, 6, 156, 1041, 2763, 33, 29, 7, 104, 142, 1634, 111, 78, 11, 340, 7, 104, 142, 341, 7, 104, 142, 70, 7, 104, 142, 915, 7, 104, 142, 873, 11, 86, 957, 230, 1991, 3667, 1262, 4906, 27, 1162, 516, 27, 316, 3047, 7, 933, 1, 5, 69, 1322, 441, 7, 234, 933, 1, 11, 1228, 31, 1192, 78, 2890, 506, 43, 7, 233, 9, 65, 31, 9, 65, 31, 272, 279, 11, 436, 1454, 1228, 31, 111, 191, 220, 436, 2878, 138, 4534, 31, 7, 79, 26, 754, 2073, 119, 218, 1, 3983, 493, 52, 218, 1, 3713, 885, 199, 1380, 1338, 5, 195, 79, 220, 2503, 3, 12, 2406, 874, 100, 276, 736, 893, 977, 4586, 147, 4608, 4488, 2406, 37, 40, 35, 24, 36, 30]\n"
     ]
    }
   ],
   "source": [
    "sequences = tok.texts_to_sequences(X)\n",
    "print(len(sequences[0]))\n",
    "print(sequences[0])"
   ]
  },
  {
   "cell_type": "code",
   "execution_count": 8,
   "metadata": {},
   "outputs": [
    {
     "name": "stdout",
     "output_type": "stream",
     "text": [
      "[[   0    0    0 ...   24   36   30]\n",
      " [  60    5   31 ...   24   36   30]\n",
      " [   0    0    0 ...   40   36   30]\n",
      " ...\n",
      " [   0    0    0 ...   24   36   30]\n",
      " [ 758  492  126 ...   24   36   30]\n",
      " [ 156  169 2144 ...   24   36   30]]\n",
      "[   0    0    0    0    0    0    0    0    0    0    0    0    0    0\n",
      "    0    0    0    0    0    0    0    0    0    0    0    0    0    0\n",
      "    0    0    0    0    0    0    0    0    0    0    0    0    0    0\n",
      "    0    0    0    0    0    0    0    0    0    0    0    0    0    0\n",
      "    0    0    0    0    0    0    0    0    0    0    0    0    0    0\n",
      "    0    0    0    0    0    0    0    0    0    0    0    0    0    0\n",
      "    0    0    0    0    0    0   65   31    7 1228  561   43  933   76\n",
      "   17    5  763    3   65   19  220 1228  111   78   43   31    7  933\n",
      "    1  278  220  300  194    5    7  933 1784  115  252  114   88  132\n",
      "   99  270   27  327  324  199  440 1242 1082    7    6  373   85  199\n",
      "    7  590    1   43  933    1   42   85  199    7  177    7  933 3007\n",
      "    5 2476 1951    1   29    7  340    7  322 2115 2443  315    1 1951\n",
      "    1 1634 4815    6  156 1041 2763   33   29    7  104  142 1634  111\n",
      "   78   11  340    7  104  142  341    7  104  142   70    7  104  142\n",
      "  915    7  104  142  873   11   86  957  230 1991 3667 1262 4906   27\n",
      " 1162  516   27  316 3047    7  933    1    5   69 1322  441    7  234\n",
      "  933    1   11 1228   31 1192   78 2890  506   43    7  233    9   65\n",
      "   31    9   65   31  272  279   11  436 1454 1228   31  111  191  220\n",
      "  436 2878  138 4534   31    7   79   26  754 2073  119  218    1 3983\n",
      "  493   52  218    1 3713  885  199 1380 1338    5  195   79  220 2503\n",
      "    3   12 2406  874  100  276  736  893  977 4586  147 4608 4488 2406\n",
      "   37   40   35   24   36   30]\n",
      "300\n"
     ]
    }
   ],
   "source": [
    "sequences_matrix = sequence.pad_sequences(sequences, maxlen=max_len)\n",
    "print(sequences_matrix)\n",
    "print(sequences_matrix[0])\n",
    "print(len(sequences_matrix[0]))"
   ]
  },
  {
   "cell_type": "markdown",
   "metadata": {},
   "source": [
    "이렇게 길이를 300으로 맞추고 가장 많이 사용하는 단어 5천개를 기준으로 했습니다.\n",
    "\n",
    "그리고 문자 -> 숫자로 바꿔주었구요."
   ]
  },
  {
   "cell_type": "code",
   "execution_count": 14,
   "metadata": {},
   "outputs": [
    {
     "name": "stdout",
     "output_type": "stream",
     "text": [
      "76106\n",
      "(14266, 300)\n",
      "(14266, 6)\n"
     ]
    }
   ],
   "source": [
    "print(len(tok.word_index))\n",
    "\n",
    "X_train, X_test, y_train, y_test = train_test_split(sequences_matrix, y, test_size=0.2)\n",
    "\n",
    "print(X_train.shape)\n",
    "print(y_train.shape)"
   ]
  },
  {
   "cell_type": "markdown",
   "metadata": {},
   "source": [
    "총 단어는 76106개입니다.\n",
    "\n",
    "이제 모델을 만들고 훈련시켜봅니다."
   ]
  },
  {
   "cell_type": "code",
   "execution_count": 15,
   "metadata": {},
   "outputs": [],
   "source": [
    "with K.tf_ops.device('/device:GPU:0'):\n",
    "    model = Sequential()\n",
    "    \n",
    "    model.add(Embedding(max_word, 64, input_length=max_len))\n",
    "    model.add(LSTM(60, return_sequences=True))\n",
    "    model.add(GlobalMaxPool1D())\n",
    "    model.add(Dropout(0.2))\n",
    "    model.add(Dense(50, activation='relu'))\n",
    "    model.add(Dropout(0.5))\n",
    "    model.add(Dense(nb_classes, activation='softmax'))\n",
    "    model.compile(loss='categorical_crossentropy', optimizer='adam', metrics=['accuracy'])\n",
    "    model_dir = './model'\n",
    "    if not os.path.exists(model_dir):\n",
    "        os.mkdir(model_dir)\n",
    "    model_path = model_dir + \"/predict_korea_news_LSTM.model\"\n",
    "    checkpoint = ModelCheckpoint(filepath=model_path, monitor=\"val_loss\", verbose=1, save_best_only=True)\n",
    "\n",
    "    early_stopping = EarlyStopping(monitor='val_loss', patience=7)\n",
    "    "
   ]
  },
  {
   "cell_type": "code",
   "execution_count": 16,
   "metadata": {},
   "outputs": [
    {
     "name": "stdout",
     "output_type": "stream",
     "text": [
      "_________________________________________________________________\n",
      "Layer (type)                 Output Shape              Param #   \n",
      "=================================================================\n",
      "embedding_2 (Embedding)      (None, 300, 64)           320000    \n",
      "_________________________________________________________________\n",
      "lstm_2 (LSTM)                (None, 300, 60)           30000     \n",
      "_________________________________________________________________\n",
      "global_max_pooling1d_1 (Glob (None, 60)                0         \n",
      "_________________________________________________________________\n",
      "dropout_3 (Dropout)          (None, 60)                0         \n",
      "_________________________________________________________________\n",
      "dense_3 (Dense)              (None, 50)                3050      \n",
      "_________________________________________________________________\n",
      "dropout_4 (Dropout)          (None, 50)                0         \n",
      "_________________________________________________________________\n",
      "dense_4 (Dense)              (None, 6)                 306       \n",
      "=================================================================\n",
      "Total params: 353,356\n",
      "Trainable params: 353,356\n",
      "Non-trainable params: 0\n",
      "_________________________________________________________________\n"
     ]
    }
   ],
   "source": [
    "model.summary()"
   ]
  },
  {
   "cell_type": "code",
   "execution_count": 17,
   "metadata": {},
   "outputs": [
    {
     "name": "stdout",
     "output_type": "stream",
     "text": [
      "Train on 11412 samples, validate on 2854 samples\n",
      "Epoch 1/20\n",
      "11412/11412 [==============================] - 42s 4ms/step - loss: 1.6138 - acc: 0.3313 - val_loss: 1.2848 - val_acc: 0.5060\n",
      "\n",
      "Epoch 00001: val_loss improved from inf to 1.28482, saving model to ./model/predict_korea_news_LSTM.model\n",
      "Epoch 2/20\n",
      "11412/11412 [==============================] - 41s 4ms/step - loss: 0.9763 - acc: 0.6611 - val_loss: 0.5960 - val_acc: 0.8273\n",
      "\n",
      "Epoch 00002: val_loss improved from 1.28482 to 0.59604, saving model to ./model/predict_korea_news_LSTM.model\n",
      "Epoch 3/20\n",
      "11412/11412 [==============================] - 41s 4ms/step - loss: 0.5507 - acc: 0.8315 - val_loss: 0.4738 - val_acc: 0.8574\n",
      "\n",
      "Epoch 00003: val_loss improved from 0.59604 to 0.47383, saving model to ./model/predict_korea_news_LSTM.model\n",
      "Epoch 4/20\n",
      "11412/11412 [==============================] - 41s 4ms/step - loss: 0.3812 - acc: 0.8912 - val_loss: 0.4696 - val_acc: 0.8662\n",
      "\n",
      "Epoch 00004: val_loss improved from 0.47383 to 0.46962, saving model to ./model/predict_korea_news_LSTM.model\n",
      "Epoch 5/20\n",
      "11412/11412 [==============================] - 41s 4ms/step - loss: 0.3017 - acc: 0.9182 - val_loss: 0.5090 - val_acc: 0.8605\n",
      "\n",
      "Epoch 00005: val_loss did not improve from 0.46962\n",
      "Epoch 6/20\n",
      "11412/11412 [==============================] - 41s 4ms/step - loss: 0.2532 - acc: 0.9338 - val_loss: 0.4952 - val_acc: 0.8623\n",
      "\n",
      "Epoch 00006: val_loss did not improve from 0.46962\n",
      "Epoch 7/20\n",
      "11412/11412 [==============================] - 41s 4ms/step - loss: 0.2166 - acc: 0.9429 - val_loss: 0.5147 - val_acc: 0.8623\n",
      "\n",
      "Epoch 00007: val_loss did not improve from 0.46962\n",
      "Epoch 8/20\n",
      "11412/11412 [==============================] - 41s 4ms/step - loss: 0.1802 - acc: 0.9546 - val_loss: 0.6612 - val_acc: 0.8458\n",
      "\n",
      "Epoch 00008: val_loss did not improve from 0.46962\n",
      "Epoch 9/20\n",
      "11412/11412 [==============================] - 41s 4ms/step - loss: 0.1722 - acc: 0.9535 - val_loss: 0.5665 - val_acc: 0.8630\n",
      "\n",
      "Epoch 00009: val_loss did not improve from 0.46962\n",
      "Epoch 10/20\n",
      "11412/11412 [==============================] - 41s 4ms/step - loss: 0.1439 - acc: 0.9634 - val_loss: 0.6367 - val_acc: 0.8518\n",
      "\n",
      "Epoch 00010: val_loss did not improve from 0.46962\n",
      "Epoch 11/20\n",
      "11412/11412 [==============================] - 41s 4ms/step - loss: 0.1438 - acc: 0.9627 - val_loss: 0.5828 - val_acc: 0.8658\n",
      "\n",
      "Epoch 00011: val_loss did not improve from 0.46962\n"
     ]
    }
   ],
   "source": [
    "hist = model.fit(X_train, y_train, batch_size=128, epochs=20, validation_split=0.2, callbacks=[checkpoint, early_stopping])"
   ]
  },
  {
   "cell_type": "code",
   "execution_count": 19,
   "metadata": {},
   "outputs": [
    {
     "name": "stdout",
     "output_type": "stream",
     "text": [
      "3567/3567 [==============================] - 18s 5ms/step\n",
      "정확도 : 0.8618\n"
     ]
    }
   ],
   "source": [
    "print(\"정확도 : %.4f\" % (model.evaluate(X_test, y_test)[1]))"
   ]
  },
  {
   "cell_type": "code",
   "execution_count": 20,
   "metadata": {},
   "outputs": [
    {
     "data": {
      "image/png": "[encoded data removed]",
      "text/plain": [
       "<Figure size 432x288 with 1 Axes>"
      ]
     },
     "metadata": {},
     "output_type": "display_data"
    }
   ],
   "source": [
    "y_vloss = hist.history['val_loss']\n",
    "y_loss = hist.history['loss']\n",
    "\n",
    "x_len = np.arange(len(y_loss))\n",
    "\n",
    "plt.plot(x_len, y_vloss, marker='.', c='red', label='val_set_loss')\n",
    "plt.plot(x_len, y_loss, marker='.', c='blue', label='train_set_oss')\n",
    "plt.legend()\n",
    "plt.xlabel('epochs')\n",
    "plt.ylabel('loss')\n",
    "plt.grid()\n",
    "plt.show()"
   ]
  },
  {
   "cell_type": "code",
   "execution_count": 21,
   "metadata": {},
   "outputs": [
    {
     "data": {
      "image/png": "[encoded data removed]",
      "text/plain": [
       "<Figure size 432x288 with 1 Axes>"
      ]
     },
     "metadata": {},
     "output_type": "display_data"
    }
   ],
   "source": [
    "y_vloss = hist.history['val_acc']\n",
    "y_loss = hist.history['acc']\n",
    "\n",
    "x_len = np.arange(len(y_loss))\n",
    "\n",
    "plt.plot(x_len, y_vloss, marker='.', c='red', label='val_set_loss')\n",
    "plt.plot(x_len, y_loss, marker='.', c='blue', label='train_set_oss')\n",
    "plt.legend()\n",
    "plt.xlabel('epochs')\n",
    "plt.ylabel('loss')\n",
    "plt.grid()\n",
    "plt.show()"
   ]
  },
  {
   "cell_type": "markdown",
   "metadata": {},
   "source": [
    "이렇게 됩니다!"
   ]
  },
  {
   "cell_type": "code",
   "execution_count": null,
   "metadata": {},
   "outputs": [],
   "source": []
  }
 ],
 "metadata": {
  "kernelspec": {
   "display_name": "Python 3",
   "language": "python",
   "name": "python3"
  },
  "language_info": {
   "codemirror_mode": {
    "name": "ipython",
    "version": 3
   },
   "file_extension": ".py",
   "mimetype": "text/x-python",
   "name": "python",
   "nbconvert_exporter": "python",
   "pygments_lexer": "ipython3",
   "version": "3.6.5"
  }
 },
 "nbformat": 4,
 "nbformat_minor": 2
}
