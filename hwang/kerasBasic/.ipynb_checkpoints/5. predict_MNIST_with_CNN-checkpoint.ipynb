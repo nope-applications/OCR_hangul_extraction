{
 "cells": [
  {
   "cell_type": "markdown",
   "metadata": {},
   "source": [
    "# let`s predict MNIST with CNN\n",
    "\n",
    "CNN in keras can be implemented by Conv2D layers\n",
    "\n"
   ]
  },
  {
   "cell_type": "code",
   "execution_count": 1,
   "metadata": {},
   "outputs": [
    {
     "name": "stderr",
     "output_type": "stream",
     "text": [
      "C:\\Users\\leesoojin\\Anaconda3\\lib\\site-packages\\h5py\\__init__.py:36: FutureWarning: Conversion of the second argument of issubdtype from `float` to `np.floating` is deprecated. In future, it will be treated as `np.float64 == np.dtype(float).type`.\n",
      "  from ._conv import register_converters as _register_converters\n",
      "Using TensorFlow backend.\n"
     ]
    }
   ],
   "source": [
    "from keras.models import Sequential\n",
    "from keras.layers import Dense, Dropout, Flatten, Conv2D, MaxPooling2D\n",
    "from keras.utils import np_utils\n",
    "from keras.callbacks import ModelCheckpoint, EarlyStopping\n",
    "from sklearn.model_selection import train_test_split\n",
    "from sklearn.preprocessing import LabelEncoder\n",
    "import keras.backend.tensorflow_backend as K\n",
    "import tensorflow as tf\n",
    "import numpy as np\n",
    "import pandas as pd\n",
    "import matplotlib.pyplot as plt\n",
    "import matplotlib as mpl\n",
    "import seaborn as sns\n",
    "import os"
   ]
  },
  {
   "cell_type": "markdown",
   "metadata": {},
   "source": [
    "load datasets mnist\n",
    "\n"
   ]
  },
  {
   "cell_type": "code",
   "execution_count": 2,
   "metadata": {},
   "outputs": [
    {
     "name": "stdout",
     "output_type": "stream",
     "text": [
      "(60000, 28, 28)\n",
      "(60000,)\n"
     ]
    }
   ],
   "source": [
    "from keras.datasets import mnist\n",
    "\n",
    "(X_train, y_train), (X_test, y_test) = mnist.load_data()\n",
    "\n",
    "print(X_train.shape)\n",
    "print(y_train.shape)"
   ]
  },
  {
   "cell_type": "markdown",
   "metadata": {},
   "source": [
    "reshape datasets. 28 x 28 pixel. and it`s not RGB color. set grey color"
   ]
  },
  {
   "cell_type": "code",
   "execution_count": 3,
   "metadata": {},
   "outputs": [
    {
     "name": "stdout",
     "output_type": "stream",
     "text": [
      "(60000, 28, 28, 1)\n",
      "(60000, 10)\n"
     ]
    }
   ],
   "source": [
    "X_train = X_train.reshape(X_train.shape[0], 28, 28, 1).astype('float32') / 255\n",
    "X_test = X_test.reshape(X_test.shape[0], 28, 28, 1).astype('float32') / 255\n",
    "\n",
    "y_train = np_utils.to_categorical(y_train)\n",
    "y_test = np_utils.to_categorical(y_test)\n",
    "\n",
    "print(X_train.shape)\n",
    "print(y_train.shape)"
   ]
  },
  {
   "cell_type": "code",
   "execution_count": 4,
   "metadata": {},
   "outputs": [],
   "source": [
    "with K.tf_ops.device('/device:GPU:0'):\n",
    "    model = Sequential()\n",
    "    model.add(Conv2D(32, kernel_size=(3,3), input_shape = (28,28,1), activation='relu'))\n",
    "    model.add(Conv2D(64, (3,3), activation='relu'))\n",
    "    model.add(MaxPooling2D(pool_size=2))\n",
    "    model.add(Dropout(0.25))\n",
    "    model.add(Flatten())\n",
    "    model.add(Dense(128, activation='relu'))\n",
    "    model.add(Dropout(0.5))\n",
    "    model.add(Dense(y_train.shape[1], activation='softmax'))\n",
    "    \n",
    "    model.compile(loss='categorical_crossentropy', optimizer='adam', metrics=['accuracy'])\n",
    "    \n",
    "    model_dir = './model/'\n",
    "    if not os.path.exists(model_dir):\n",
    "        os.mkdir(model_dir)\n",
    "    \n",
    "    modelName = model_dir + 'cnn_mnist.model'\n",
    "    \n",
    "    checkpointer = ModelCheckpoint(filepath=modelName, monitor='val_loss', verbose=1, save_best_only = True)\n",
    "    \n",
    "    early_stopping = EarlyStopping(monitor='val_loss', patience=10)"
   ]
  },
  {
   "cell_type": "code",
   "execution_count": 5,
   "metadata": {},
   "outputs": [
    {
     "name": "stdout",
     "output_type": "stream",
     "text": [
      "_________________________________________________________________\n",
      "Layer (type)                 Output Shape              Param #   \n",
      "=================================================================\n",
      "conv2d_1 (Conv2D)            (None, 26, 26, 32)        320       \n",
      "_________________________________________________________________\n",
      "conv2d_2 (Conv2D)            (None, 24, 24, 64)        18496     \n",
      "_________________________________________________________________\n",
      "max_pooling2d_1 (MaxPooling2 (None, 12, 12, 64)        0         \n",
      "_________________________________________________________________\n",
      "dropout_1 (Dropout)          (None, 12, 12, 64)        0         \n",
      "_________________________________________________________________\n",
      "flatten_1 (Flatten)          (None, 9216)              0         \n",
      "_________________________________________________________________\n",
      "dense_1 (Dense)              (None, 128)               1179776   \n",
      "_________________________________________________________________\n",
      "dropout_2 (Dropout)          (None, 128)               0         \n",
      "_________________________________________________________________\n",
      "dense_2 (Dense)              (None, 10)                1290      \n",
      "=================================================================\n",
      "Total params: 1,199,882\n",
      "Trainable params: 1,199,882\n",
      "Non-trainable params: 0\n",
      "_________________________________________________________________\n"
     ]
    }
   ],
   "source": [
    "model.summary()"
   ]
  },
  {
   "cell_type": "code",
   "execution_count": 6,
   "metadata": {},
   "outputs": [
    {
     "name": "stdout",
     "output_type": "stream",
     "text": [
      "Train on 48000 samples, validate on 12000 samples\n",
      "Epoch 1/30\n",
      "48000/48000 [==============================] - 7s 143us/step - loss: 0.3120 - acc: 0.9037 - val_loss: 0.0706 - val_acc: 0.9791\n",
      "\n",
      "Epoch 00001: val_loss improved from inf to 0.07064, saving model to ./model/cnn_mnist.model\n",
      "Epoch 2/30\n",
      "48000/48000 [==============================] - 4s 89us/step - loss: 0.0976 - acc: 0.9709 - val_loss: 0.0510 - val_acc: 0.9858\n",
      "\n",
      "Epoch 00002: val_loss improved from 0.07064 to 0.05101, saving model to ./model/cnn_mnist.model\n",
      "Epoch 3/30\n",
      "48000/48000 [==============================] - 4s 89us/step - loss: 0.0693 - acc: 0.9788 - val_loss: 0.0440 - val_acc: 0.9875\n",
      "\n",
      "Epoch 00003: val_loss improved from 0.05101 to 0.04403, saving model to ./model/cnn_mnist.model\n",
      "Epoch 4/30\n",
      "48000/48000 [==============================] - 4s 90us/step - loss: 0.0583 - acc: 0.9821 - val_loss: 0.0429 - val_acc: 0.9875ac - ETA: 1s - loss: 0.\n",
      "\n",
      "Epoch 00004: val_loss improved from 0.04403 to 0.04286, saving model to ./model/cnn_mnist.model\n",
      "Epoch 5/30\n",
      "48000/48000 [==============================] - 4s 89us/step - loss: 0.0482 - acc: 0.9849 - val_loss: 0.0374 - val_acc: 0.9893A: 0s - loss: 0.0482 - acc: 0.\n",
      "\n",
      "Epoch 00005: val_loss improved from 0.04286 to 0.03738, saving model to ./model/cnn_mnist.model\n",
      "Epoch 6/30\n",
      "48000/48000 [==============================] - 4s 89us/step - loss: 0.0425 - acc: 0.9868 - val_loss: 0.0426 - val_acc: 0.9868\n",
      "\n",
      "Epoch 00006: val_loss did not improve from 0.03738\n",
      "Epoch 7/30\n",
      "48000/48000 [==============================] - 4s 90us/step - loss: 0.0379 - acc: 0.9878 - val_loss: 0.0381 - val_acc: 0.9902loss - ETA: 0s - loss: 0.0369 - ETA: 0s - loss: 0.0380 - acc: 0.98\n",
      "\n",
      "Epoch 00007: val_loss did not improve from 0.03738\n",
      "Epoch 8/30\n",
      "48000/48000 [==============================] - 4s 90us/step - loss: 0.0327 - acc: 0.9891 - val_loss: 0.0338 - val_acc: 0.9905\n",
      "\n",
      "Epoch 00008: val_loss improved from 0.03738 to 0.03376, saving model to ./model/cnn_mnist.model\n",
      "Epoch 9/30\n",
      "48000/48000 [==============================] - 4s 90us/step - loss: 0.0298 - acc: 0.9906 - val_loss: 0.0350 - val_acc: 0.99077 - - ETA: 0s - loss: 0.0\n",
      "\n",
      "Epoch 00009: val_loss did not improve from 0.03376\n",
      "Epoch 10/30\n",
      "48000/48000 [==============================] - 4s 89us/step - loss: 0.0271 - acc: 0.9914 - val_loss: 0.0337 - val_acc: 0.9912A: 0s - loss: 0.0267 - acc: 0.9 - ETA: 0s - loss: 0.0269 - acc: 0.99\n",
      "\n",
      "Epoch 00010: val_loss improved from 0.03376 to 0.03371, saving model to ./model/cnn_mnist.model\n",
      "Epoch 11/30\n",
      "48000/48000 [==============================] - 4s 91us/step - loss: 0.0259 - acc: 0.9916 - val_loss: 0.0352 - val_acc: 0.9905\n",
      "\n",
      "Epoch 00011: val_loss did not improve from 0.03371\n",
      "Epoch 12/30\n",
      "48000/48000 [==============================] - 4s 90us/step - loss: 0.0227 - acc: 0.9926 - val_loss: 0.0351 - val_acc: 0.9904: 3s - loss: 0 - ETA: 2s - loss: 0.0235 - ETA: 1s - loss: 0.0228 - acc: 0. - ETA: 1s - loss: \n",
      "\n",
      "Epoch 00012: val_loss did not improve from 0.03371\n",
      "Epoch 13/30\n",
      "48000/48000 [==============================] - 4s 90us/step - loss: 0.0211 - acc: 0.9926 - val_loss: 0.0365 - val_acc: 0.9910TA: 1s - loss: 0.\n",
      "\n",
      "Epoch 00013: val_loss did not improve from 0.03371\n",
      "Epoch 14/30\n",
      "48000/48000 [==============================] - 4s 89us/step - loss: 0.0208 - acc: 0.9930 - val_loss: 0.0345 - val_acc: 0.9912\n",
      "\n",
      "Epoch 00014: val_loss did not improve from 0.03371\n",
      "Epoch 15/30\n",
      "48000/48000 [==============================] - 4s 89us/step - loss: 0.0185 - acc: 0.9934 - val_loss: 0.0357 - val_acc: 0.9917\n",
      "\n",
      "Epoch 00015: val_loss did not improve from 0.03371\n",
      "Epoch 16/30\n",
      "48000/48000 [==============================] - 4s 89us/step - loss: 0.0168 - acc: 0.9944 - val_loss: 0.0395 - val_acc: 0.9913 - acc\n",
      "\n",
      "Epoch 00016: val_loss did not improve from 0.03371\n",
      "Epoch 17/30\n",
      "48000/48000 [==============================] - 4s 89us/step - loss: 0.0165 - acc: 0.9946 - val_loss: 0.0360 - val_acc: 0.9911\n",
      "\n",
      "Epoch 00017: val_loss did not improve from 0.03371\n",
      "Epoch 18/30\n",
      "48000/48000 [==============================] - 4s 89us/step - loss: 0.0150 - acc: 0.9950 - val_loss: 0.0385 - val_acc: 0.99133 - \n",
      "\n",
      "Epoch 00018: val_loss did not improve from 0.03371\n",
      "Epoch 19/30\n",
      "48000/48000 [==============================] - 4s 89us/step - loss: 0.0134 - acc: 0.9951 - val_loss: 0.0360 - val_acc: 0.9906\n",
      "\n",
      "Epoch 00019: val_loss did not improve from 0.03371\n",
      "Epoch 20/30\n",
      "48000/48000 [==============================] - 4s 89us/step - loss: 0.0134 - acc: 0.9955 - val_loss: 0.0416 - val_acc: 0.9917\n",
      "\n",
      "Epoch 00020: val_loss did not improve from 0.03371\n"
     ]
    }
   ],
   "source": [
    "history = model.fit(X_train, y_train, epochs=30, validation_split=0.2, batch_size=200, callbacks=[early_stopping, checkpointer])"
   ]
  },
  {
   "cell_type": "code",
   "execution_count": 7,
   "metadata": {},
   "outputs": [
    {
     "name": "stdout",
     "output_type": "stream",
     "text": [
      "10000/10000 [==============================] - 1s 81us/step\n",
      "model accuracy : 0.9920 \n"
     ]
    },
    {
     "data": {
      "image/png": "[encoded data removed]",
      "text/plain": [
       "<Figure size 432x288 with 1 Axes>"
      ]
     },
     "metadata": {},
     "output_type": "display_data"
    }
   ],
   "source": [
    "print(\"model accuracy : %.4f \"% model.evaluate(X_test, y_test)[1])\n",
    "\n",
    "y_vloss = history.history['val_loss']\n",
    "y_loss = history.history['loss']\n",
    "\n",
    "x_len = np.arange(len(y_loss))\n",
    "\n",
    "plt.plot(x_len, y_vloss, marker='.', c='red', label='val_set_loss')\n",
    "plt.plot(x_len, y_loss, marker='.', c='blue', label='train_set_oss')\n",
    "plt.legend()\n",
    "plt.xlabel('epochs')\n",
    "plt.ylabel('loss')\n",
    "plt.grid()\n",
    "plt.show()"
   ]
  },
  {
   "cell_type": "code",
   "execution_count": null,
   "metadata": {},
   "outputs": [],
   "source": []
  }
 ],
 "metadata": {
  "kernelspec": {
   "display_name": "Python 3",
   "language": "python",
   "name": "python3"
  },
  "language_info": {
   "codemirror_mode": {
    "name": "ipython",
    "version": 3
   },
   "file_extension": ".py",
   "mimetype": "text/x-python",
   "name": "python",
   "nbconvert_exporter": "python",
   "pygments_lexer": "ipython3",
   "version": "3.6.5"
  }
 },
 "nbformat": 4,
 "nbformat_minor": 2
}
