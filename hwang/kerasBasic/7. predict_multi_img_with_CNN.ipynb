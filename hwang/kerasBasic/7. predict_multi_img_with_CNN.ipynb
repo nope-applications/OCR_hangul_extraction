{
 "cells": [
  {
   "cell_type": "markdown",
   "metadata": {},
   "source": [
    "** 멀티라벨 분류 **\n",
    "\n",
    "비행기, 불상, 나비, 게 4가지의 이미지를 분류해본다\n",
    "\n",
    "기본적인 방법은 단일 이미지 분류와 같다. 대신, 다중 이미지 분류이기 때문에 카테고리의 변화가 있다.\n",
    "\n",
    "그리고 단일 보다 데이터셋이 현저히 부족하다. 이는 데이터셋을 잘 못모은 내 잘못이다.\n",
    "\n",
    "미리 양해를 구한다.\n"
   ]
  },
  {
   "cell_type": "code",
   "execution_count": 1,
   "metadata": {},
   "outputs": [
    {
     "name": "stdout",
     "output_type": "stream",
     "text": [
      "airplanes  파일 길이 :  793\n",
      "airplanes  :  ./multi_img_data/imgs_others/train/airplanes\\image_0008.jpg\n",
      "airplanes  :  ./multi_img_data/imgs_others/train/airplanes\\image_0708.jpg\n",
      "buddha  파일 길이 :  947\n",
      "buddha  :  ./multi_img_data/imgs_others/train/buddha\\image_0007.jpg\n",
      "buddha  :  ./multi_img_data/imgs_others/train/buddha\\plus_3418_0_4375.jpg\n",
      "butterfly  파일 길이 :  1020\n",
      "butterfly  :  ./multi_img_data/imgs_others/train/butterfly\\image_0007.jpg\n",
      "butterfly  :  ./multi_img_data/imgs_others/train/butterfly\\plus_3496_0_9956.jpg\n",
      "crab  파일 길이 :  804\n",
      "crab  :  ./multi_img_data/imgs_others/train/crab\\image_0007.jpg\n",
      "crab  :  ./multi_img_data/imgs_others/train/crab\\plus_3583_0_393.jpg\n",
      "ok 3564\n"
     ]
    }
   ],
   "source": [
    "from PIL import Image\n",
    "import os, glob, numpy as np\n",
    "from sklearn.model_selection import train_test_split\n",
    "\n",
    "caltech_dir = \"./multi_img_data/imgs_others/train\"\n",
    "categories = [\"airplanes\", \"buddha\", \"butterfly\", \"crab\"]\n",
    "nb_classes = len(categories)\n",
    "\n",
    "image_w = 64\n",
    "image_h = 64\n",
    "\n",
    "pixels = image_h * image_w * 3\n",
    "\n",
    "X = []\n",
    "y = []\n",
    "\n",
    "for idx, cat in enumerate(categories):\n",
    "    \n",
    "    #one-hot 돌리기.\n",
    "    label = [0 for i in range(nb_classes)]\n",
    "    label[idx] = 1\n",
    "\n",
    "    image_dir = caltech_dir + \"/\" + cat\n",
    "    files = glob.glob(image_dir+\"/*.jpg\")\n",
    "    print(cat, \" 파일 길이 : \", len(files))\n",
    "    for i, f in enumerate(files):\n",
    "        img = Image.open(f)\n",
    "        img = img.convert(\"RGB\")\n",
    "        img = img.resize((image_w, image_h))\n",
    "        data = np.asarray(img)\n",
    "\n",
    "        X.append(data)\n",
    "        y.append(label)\n",
    "\n",
    "        if i % 700 == 0:\n",
    "            print(cat, \" : \", f)\n",
    "\n",
    "X = np.array(X)\n",
    "y = np.array(y)\n",
    "#1 0 0 0 이면 airplanes\n",
    "#0 1 0 0 이면 buddha 이런식\n",
    "\n",
    "\n",
    "X_train, X_test, y_train, y_test = train_test_split(X, y)\n",
    "xy = (X_train, X_test, y_train, y_test)\n",
    "np.save(\"./numpy_data/multi_image_data.npy\", xy)\n",
    "\n",
    "print(\"ok\", len(y))\n"
   ]
  },
  {
   "cell_type": "markdown",
   "metadata": {},
   "source": [
    "이제 numpy 데이터를 불러온다. 저것을 가지고 학습!"
   ]
  },
  {
   "cell_type": "code",
   "execution_count": 15,
   "metadata": {},
   "outputs": [
    {
     "name": "stdout",
     "output_type": "stream",
     "text": [
      "(2673, 64, 64, 3)\n",
      "2673\n"
     ]
    }
   ],
   "source": [
    "import os, glob, numpy as np\n",
    "from keras.models import Sequential\n",
    "from keras.layers import Conv2D, MaxPooling2D, Dense, Flatten, Dropout\n",
    "from keras.callbacks import EarlyStopping, ModelCheckpoint\n",
    "import matplotlib.pyplot as plt\n",
    "import keras.backend.tensorflow_backend as K\n",
    "\n",
    "import tensorflow as tf\n",
    "config = tf.ConfigProto()\n",
    "config.gpu_options.allow_growth = True\n",
    "session = tf.Session(config=config)\n",
    "\n",
    "X_train, X_test, y_train, y_test = np.load('./numpy_data/multi_image_data.npy')\n",
    "print(X_train.shape)\n",
    "print(X_train.shape[0])"
   ]
  },
  {
   "cell_type": "code",
   "execution_count": 16,
   "metadata": {},
   "outputs": [],
   "source": [
    "categories = [\"airplanes\", \"buddha\", \"butterfly\", \"crab\"]\n",
    "nb_classes = len(categories)\n",
    "\n",
    "#일반화\n",
    "X_train = X_train.astype(float) / 255\n",
    "X_test = X_test.astype(float) / 255"
   ]
  },
  {
   "cell_type": "code",
   "execution_count": 17,
   "metadata": {},
   "outputs": [],
   "source": [
    "with K.tf_ops.device('/device:GPU:0'):\n",
    "    model = Sequential()\n",
    "    model.add(Conv2D(32, (3,3), padding=\"same\", input_shape=X_train.shape[1:], activation='relu'))\n",
    "    model.add(MaxPooling2D(pool_size=(2,2)))\n",
    "    model.add(Dropout(0.25))\n",
    "    \n",
    "    model.add(Conv2D(64, (3,3), padding=\"same\", activation='relu'))\n",
    "    model.add(MaxPooling2D(pool_size=(2,2)))\n",
    "    model.add(Dropout(0.25))\n",
    "    \n",
    "    model.add(Flatten())\n",
    "    model.add(Dense(256, activation='relu'))\n",
    "    model.add(Dropout(0.5))\n",
    "    model.add(Dense(nb_classes, activation='softmax'))\n",
    "    model.compile(loss='categorical_crossentropy', optimizer='adam', metrics=['accuracy'])\n",
    "    model_dir = './model'\n",
    "    \n",
    "    if not os.path.exists(model_dir):\n",
    "        os.mkdir(model_dir)\n",
    "    \n",
    "    model_path = model_dir + '/multi_img_classification.model'\n",
    "    checkpoint = ModelCheckpoint(filepath=model_path , monitor='val_loss', verbose=1, save_best_only=True)\n",
    "    early_stopping = EarlyStopping(monitor='val_loss', patience=6)\n",
    "    \n",
    "    "
   ]
  },
  {
   "cell_type": "code",
   "execution_count": 18,
   "metadata": {},
   "outputs": [
    {
     "name": "stdout",
     "output_type": "stream",
     "text": [
      "_________________________________________________________________\n",
      "Layer (type)                 Output Shape              Param #   \n",
      "=================================================================\n",
      "conv2d_3 (Conv2D)            (None, 64, 64, 32)        896       \n",
      "_________________________________________________________________\n",
      "max_pooling2d_3 (MaxPooling2 (None, 32, 32, 32)        0         \n",
      "_________________________________________________________________\n",
      "dropout_3 (Dropout)          (None, 32, 32, 32)        0         \n",
      "_________________________________________________________________\n",
      "conv2d_4 (Conv2D)            (None, 32, 32, 64)        18496     \n",
      "_________________________________________________________________\n",
      "max_pooling2d_4 (MaxPooling2 (None, 16, 16, 64)        0         \n",
      "_________________________________________________________________\n",
      "dropout_4 (Dropout)          (None, 16, 16, 64)        0         \n",
      "_________________________________________________________________\n",
      "flatten_2 (Flatten)          (None, 16384)             0         \n",
      "_________________________________________________________________\n",
      "dense_3 (Dense)              (None, 256)               4194560   \n",
      "_________________________________________________________________\n",
      "dropout_5 (Dropout)          (None, 256)               0         \n",
      "_________________________________________________________________\n",
      "dense_4 (Dense)              (None, 4)                 1028      \n",
      "=================================================================\n",
      "Total params: 4,214,980\n",
      "Trainable params: 4,214,980\n",
      "Non-trainable params: 0\n",
      "_________________________________________________________________\n"
     ]
    }
   ],
   "source": [
    "model.summary()"
   ]
  },
  {
   "cell_type": "code",
   "execution_count": 19,
   "metadata": {},
   "outputs": [
    {
     "name": "stdout",
     "output_type": "stream",
     "text": [
      "Train on 2673 samples, validate on 891 samples\n",
      "Epoch 1/50\n",
      "2673/2673 [==============================] - 3s 976us/step - loss: 1.3855 - acc: 0.4074 - val_loss: 0.9156 - val_acc: 0.5713\n",
      "\n",
      "Epoch 00001: val_loss improved from inf to 0.91558, saving model to ./model/multi_img_classification.model\n",
      "Epoch 2/50\n",
      "2673/2673 [==============================] - 2s 623us/step - loss: 0.8363 - acc: 0.6450 - val_loss: 0.7667 - val_acc: 0.6667\n",
      "\n",
      "Epoch 00002: val_loss improved from 0.91558 to 0.76669, saving model to ./model/multi_img_classification.model\n",
      "Epoch 3/50\n",
      "2673/2673 [==============================] - 2s 609us/step - loss: 0.6617 - acc: 0.7153 - val_loss: 0.6959 - val_acc: 0.7217\n",
      "\n",
      "Epoch 00003: val_loss improved from 0.76669 to 0.69590, saving model to ./model/multi_img_classification.model\n",
      "Epoch 4/50\n",
      "2673/2673 [==============================] - 2s 623us/step - loss: 0.5541 - acc: 0.7740 - val_loss: 0.5858 - val_acc: 0.7329\n",
      "\n",
      "Epoch 00004: val_loss improved from 0.69590 to 0.58579, saving model to ./model/multi_img_classification.model\n",
      "Epoch 5/50\n",
      "2673/2673 [==============================] - 2s 609us/step - loss: 0.4384 - acc: 0.8242 - val_loss: 0.4910 - val_acc: 0.8058\n",
      "\n",
      "Epoch 00005: val_loss improved from 0.58579 to 0.49096, saving model to ./model/multi_img_classification.model\n",
      "Epoch 6/50\n",
      "2673/2673 [==============================] - 2s 609us/step - loss: 0.3693 - acc: 0.8571 - val_loss: 0.4563 - val_acc: 0.8328\n",
      "\n",
      "Epoch 00006: val_loss improved from 0.49096 to 0.45626, saving model to ./model/multi_img_classification.model\n",
      "Epoch 7/50\n",
      "2673/2673 [==============================] - 2s 615us/step - loss: 0.2708 - acc: 0.8967 - val_loss: 0.4228 - val_acc: 0.8361\n",
      "\n",
      "Epoch 00007: val_loss improved from 0.45626 to 0.42279, saving model to ./model/multi_img_classification.model\n",
      "Epoch 8/50\n",
      "2673/2673 [==============================] - 2s 622us/step - loss: 0.2623 - acc: 0.9005 - val_loss: 0.4276 - val_acc: 0.8429\n",
      "\n",
      "Epoch 00008: val_loss did not improve from 0.42279\n",
      "Epoch 9/50\n",
      "2673/2673 [==============================] - 2s 607us/step - loss: 0.2115 - acc: 0.9207 - val_loss: 0.3884 - val_acc: 0.8597\n",
      "\n",
      "Epoch 00009: val_loss improved from 0.42279 to 0.38836, saving model to ./model/multi_img_classification.model\n",
      "Epoch 10/50\n",
      "2673/2673 [==============================] - 2s 617us/step - loss: 0.1762 - acc: 0.9312 - val_loss: 0.3840 - val_acc: 0.8754\n",
      "\n",
      "Epoch 00010: val_loss improved from 0.38836 to 0.38401, saving model to ./model/multi_img_classification.model\n",
      "Epoch 11/50\n",
      "2673/2673 [==============================] - 2s 618us/step - loss: 0.1341 - acc: 0.9559 - val_loss: 0.4064 - val_acc: 0.8620\n",
      "\n",
      "Epoch 00011: val_loss did not improve from 0.38401\n",
      "Epoch 12/50\n",
      "2673/2673 [==============================] - 2s 607us/step - loss: 0.1098 - acc: 0.9645 - val_loss: 0.3892 - val_acc: 0.8754\n",
      "\n",
      "Epoch 00012: val_loss did not improve from 0.38401\n",
      "Epoch 13/50\n",
      "2673/2673 [==============================] - 2s 610us/step - loss: 0.1125 - acc: 0.9603 - val_loss: 0.3791 - val_acc: 0.8833\n",
      "\n",
      "Epoch 00013: val_loss improved from 0.38401 to 0.37906, saving model to ./model/multi_img_classification.model\n",
      "Epoch 14/50\n",
      "2673/2673 [==============================] - 2s 609us/step - loss: 0.0868 - acc: 0.9719 - val_loss: 0.3749 - val_acc: 0.8866\n",
      "\n",
      "Epoch 00014: val_loss improved from 0.37906 to 0.37488, saving model to ./model/multi_img_classification.model\n",
      "Epoch 15/50\n",
      "2673/2673 [==============================] - 2s 610us/step - loss: 0.0802 - acc: 0.9746 - val_loss: 0.3199 - val_acc: 0.9113\n",
      "\n",
      "Epoch 00015: val_loss improved from 0.37488 to 0.31993, saving model to ./model/multi_img_classification.model\n",
      "Epoch 16/50\n",
      "2673/2673 [==============================] - 2s 610us/step - loss: 0.0600 - acc: 0.9839 - val_loss: 0.4279 - val_acc: 0.8765\n",
      "\n",
      "Epoch 00016: val_loss did not improve from 0.31993\n",
      "Epoch 17/50\n",
      "2673/2673 [==============================] - 2s 613us/step - loss: 0.0671 - acc: 0.9783 - val_loss: 0.4512 - val_acc: 0.8799\n",
      "\n",
      "Epoch 00017: val_loss did not improve from 0.31993\n",
      "Epoch 18/50\n",
      "2673/2673 [==============================] - 2s 607us/step - loss: 0.0562 - acc: 0.9850 - val_loss: 0.4372 - val_acc: 0.8900\n",
      "\n",
      "Epoch 00018: val_loss did not improve from 0.31993\n",
      "Epoch 19/50\n",
      "2673/2673 [==============================] - 2s 608us/step - loss: 0.0570 - acc: 0.9802 - val_loss: 0.3700 - val_acc: 0.9012\n",
      "\n",
      "Epoch 00019: val_loss did not improve from 0.31993\n",
      "Epoch 20/50\n",
      "2673/2673 [==============================] - 2s 612us/step - loss: 0.0640 - acc: 0.9802 - val_loss: 0.4258 - val_acc: 0.8765\n",
      "\n",
      "Epoch 00020: val_loss did not improve from 0.31993\n",
      "Epoch 21/50\n",
      "2673/2673 [==============================] - 2s 607us/step - loss: 0.0665 - acc: 0.9772 - val_loss: 0.3608 - val_acc: 0.9024\n",
      "\n",
      "Epoch 00021: val_loss did not improve from 0.31993\n"
     ]
    }
   ],
   "source": [
    "\n",
    "#데이터셋이 적어서 validation을 그냥 test 데이터로 했습니다. \n",
    "#데이터셋이 충분하시면 이렇게 하시지 마시고 validation_split=0.2 이렇게 하셔서 테스트 셋으로 나누시길 권장합니다.\n",
    "history = model.fit(X_train, y_train, batch_size=32, epochs=50, validation_data=(X_test, y_test), callbacks=[checkpoint, early_stopping])"
   ]
  },
  {
   "cell_type": "code",
   "execution_count": 20,
   "metadata": {},
   "outputs": [
    {
     "name": "stdout",
     "output_type": "stream",
     "text": [
      "891/891 [==============================] - ETA:  - 0s 216us/step\n",
      "정확도 : 0.9024\n"
     ]
    }
   ],
   "source": [
    "print(\"정확도 : %.4f\" % (model.evaluate(X_test, y_test)[1]))"
   ]
  },
  {
   "cell_type": "code",
   "execution_count": 21,
   "metadata": {},
   "outputs": [
    {
     "data": {
      "image/png": "[encoded data removed]",
      "text/plain": [
       "<Figure size 432x288 with 1 Axes>"
      ]
     },
     "metadata": {},
     "output_type": "display_data"
    }
   ],
   "source": [
    "y_vloss = history.history['val_loss']\n",
    "y_loss = history.history['loss']\n",
    "\n",
    "x_len = np.arange(len(y_loss))\n",
    "\n",
    "plt.plot(x_len, y_vloss, marker='.', c='red', label='val_set_loss')\n",
    "plt.plot(x_len, y_loss, marker='.', c='blue', label='train_set_oss')\n",
    "plt.legend()\n",
    "plt.xlabel('epochs')\n",
    "plt.ylabel('loss')\n",
    "plt.grid()\n",
    "plt.show()"
   ]
  },
  {
   "cell_type": "code",
   "execution_count": 22,
   "metadata": {},
   "outputs": [
    {
     "name": "stdout",
     "output_type": "stream",
     "text": [
      "[0.000 0.000 0.000 1.000]\n",
      "3\n",
      "해당 게1.PNG이미지는 게로 추정됩니다.\n",
      "[0.000 0.000 0.000 1.000]\n",
      "3\n",
      "해당 게2.PNG이미지는 게로 추정됩니다.\n",
      "[0.000 0.000 0.000 1.000]\n",
      "3\n",
      "해당 게3.PNG이미지는 게로 추정됩니다.\n",
      "[0.000 0.000 1.000 0.000]\n",
      "2\n",
      "해당 나비1.PNG이미지는 나비로 추정됩니다.\n",
      "[0.000 0.000 1.000 0.000]\n",
      "2\n",
      "해당 나비2.PNG이미지는 나비로 추정됩니다.\n",
      "[0.000 0.000 1.000 0.000]\n",
      "2\n",
      "해당 나비3.PNG이미지는 나비로 추정됩니다.\n",
      "[1.000 0.000 0.000 0.000]\n",
      "0\n",
      "해당 뱅기1.PNG이미지는 비행기로 추정됩니다.\n",
      "[1.000 0.000 0.000 0.000]\n",
      "0\n",
      "해당 뱅기2.PNG이미지는 비행기로 추정됩니다.\n",
      "[1.000 0.000 0.000 0.000]\n",
      "0\n",
      "해당 뱅기3.PNG이미지는 비행기로 추정됩니다.\n",
      "[0.000 1.000 0.000 0.000]\n",
      "1\n",
      "해당 불상1.PNG이미지는 불상으로 추정됩니다.\n",
      "[0.000 0.000 0.000 1.000]\n",
      "3\n",
      "해당 불상2.PNG이미지는 게로 추정됩니다.\n",
      "[0.000 1.000 0.000 0.000]\n",
      "1\n",
      "해당 불상3.PNG이미지는 불상으로 추정됩니다.\n"
     ]
    }
   ],
   "source": [
    "from PIL import Image\n",
    "import os, glob, numpy as np\n",
    "from keras.models import load_model\n",
    "\n",
    "caltech_dir = \"./multi_img_data/imgs_others_test\"\n",
    "image_w = 64\n",
    "image_h = 64\n",
    "\n",
    "pixels = image_h * image_w * 3\n",
    "\n",
    "X = []\n",
    "filenames = []\n",
    "files = glob.glob(caltech_dir+\"/*.*\")\n",
    "for i, f in enumerate(files):\n",
    "    img = Image.open(f)\n",
    "    img = img.convert(\"RGB\")\n",
    "    img = img.resize((image_w, image_h))\n",
    "    data = np.asarray(img)\n",
    "    filenames.append(f)\n",
    "    X.append(data)\n",
    "\n",
    "X = np.array(X)\n",
    "model = load_model('./model/multi_img_classification.model')\n",
    "\n",
    "prediction = model.predict(X)\n",
    "np.set_printoptions(formatter={'float': lambda x: \"{0:0.3f}\".format(x)})\n",
    "cnt = 0\n",
    "\n",
    "#이 비교는 그냥 파일들이 있으면 해당 파일과 비교. 카테고리와 함께 비교해서 진행하는 것은 _4 파일.\n",
    "for i in prediction:\n",
    "    pre_ans = i.argmax()  # 예측 레이블\n",
    "    print(i)\n",
    "    print(pre_ans)\n",
    "    pre_ans_str = ''\n",
    "    if pre_ans == 0: pre_ans_str = \"비행기\"\n",
    "    elif pre_ans == 1: pre_ans_str = \"불상\"\n",
    "    elif pre_ans == 2: pre_ans_str = \"나비\"\n",
    "    else: pre_ans_str = \"게\"\n",
    "    if i[0] >= 0.8 : print(\"해당 \"+filenames[cnt].split(\"\\\\\")[1]+\"이미지는 \"+pre_ans_str+\"로 추정됩니다.\")\n",
    "    if i[1] >= 0.8: print(\"해당 \"+filenames[cnt].split(\"\\\\\")[1]+\"이미지는 \"+pre_ans_str+\"으로 추정됩니다.\")\n",
    "    if i[2] >= 0.8: print(\"해당 \"+filenames[cnt].split(\"\\\\\")[1]+\"이미지는 \"+pre_ans_str+\"로 추정됩니다.\")\n",
    "    if i[3] >= 0.8: print(\"해당 \"+filenames[cnt].split(\"\\\\\")[1]+\"이미지는 \"+pre_ans_str+\"로 추정됩니다.\")\n",
    "    cnt += 1\n",
    "    # print(i.argmax()) #얘가 레이블 [1. 0. 0.] 이런식으로 되어 있는 것을 숫자로 바꿔주는 것.\n",
    "    # 즉 얘랑, 나중에 카테고리 데이터 불러와서 카테고리랑 비교를 해서 같으면 맞는거고, 아니면 틀린거로 취급하면 된다.\n",
    "    # 이걸 한 것은 _4.py에.\n"
   ]
  },
  {
   "cell_type": "markdown",
   "metadata": {},
   "source": [
    "비록 데이터가 적지만 그래도 나름 학습이 잘 되었습니다.\n",
    "\n",
    "하지만 **validation data와 test data가 나뉘어져 있지 않습니다.**\n",
    "\n",
    "이는 매우 위험한 시도입니다. 왜냐하면 검증 단계에서 테스트 데이터를 사용했는데 또 마지막에 정확도 검출 시 test_data를 사용합니다.\n",
    "\n",
    "데이터가 충분하다면 이런짓은 하지 않는게 좋습니다!\n",
    "\n",
    "하지만 새로운 데이터에 대한 예측은 그래도 잘 하는군요!"
   ]
  },
  {
   "cell_type": "code",
   "execution_count": null,
   "metadata": {},
   "outputs": [],
   "source": []
  }
 ],
 "metadata": {
  "kernelspec": {
   "display_name": "Python 3",
   "language": "python",
   "name": "python3"
  },
  "language_info": {
   "codemirror_mode": {
    "name": "ipython",
    "version": 3
   },
   "file_extension": ".py",
   "mimetype": "text/x-python",
   "name": "python",
   "nbconvert_exporter": "python",
   "pygments_lexer": "ipython3",
   "version": "3.6.5"
  }
 },
 "nbformat": 4,
 "nbformat_minor": 2
}
